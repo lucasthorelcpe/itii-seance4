{
 "cells": [
  {
   "cell_type": "markdown",
   "metadata": {},
   "source": [
    "### Ex 1 :  théorème des valeurs intermédiaires\n",
    "\n",
    "1. Rappel \\\n",
    "Soit f  une fonction continue définie sur un intervalle I et, a et b deux réels de I. Pour tout réel k compris entre f(a) et f(b), il existe au moins un réel c compris entre a et b tel que f(c)=k.\n",
    "\n",
    "Soit f une fonction continue et strictement monotone sur un intervalle [a;b]. Pour tout nombre k compris entre f(a) et f(b), l'équation f(x)=k admet une unique solution dans l'intervalle [a;b].\n",
    "\n",
    "2. Application \\\n",
    "Nous considérons dans cet exercice la fonction f, définie sur l'intervalle [0;1] par: f(x)=x$^3$+2x−2\n",
    "Par la conséquence du théorème des valeurs intermédiaires, l'équation f(x)=0 admet une unique solution x$_0$ dans [0;1]\n",
    "\n",
    "\\* vérifier continuité et stricte monotonie de f sur [0;1] \\\n",
    "\\* Pour savoir si x$_0$ se trouve dans [0;0,5] ou dans [0,5;1], il faut vérifier si f(0) et f(0,5)  sont de même signe \\\n",
    "\\* proposer un algorithme de recherche pour évaluer x$_0$ en fonction de $N$, donné par l'utilisateur"
   ]
  },
  {
   "cell_type": "markdown",
   "metadata": {},
   "source": [
    "#### Correction\n",
    "\n",
    "f'(x) = 3x$^2$+2 \\\n",
    "Pour x $\\in$ [0,1], f'(x) > 0 $\\Rightarrow$ f(x) strictement croissante donc strictement monotone \\\n",
    "De plus, f(x) est définie pour tout x $\\in$ $\\mathbb{R}$ donc f(x) continue sur $\\mathbb{R}$ donc continue sur [0,1]"
   ]
  },
  {
   "cell_type": "code",
   "execution_count": 5,
   "metadata": {
    "scrolled": true
   },
   "outputs": [
    {
     "data": {
      "image/png": "[encoded data removed]",
      "text/plain": [
       "<Figure size 432x288 with 1 Axes>"
      ]
     },
     "metadata": {
      "needs_background": "light"
     },
     "output_type": "display_data"
    },
    {
     "name": "stdout",
     "output_type": "stream",
     "text": [
      "f(x) semble strictement monotone\n"
     ]
    }
   ],
   "source": [
    "def f(x):\n",
    "    \n",
    "    return x**3+2*x-2\n",
    "\n",
    "def plot_f(function,interv=[0,1],step=1e-2):\n",
    "    \n",
    "    import matplotlib.pyplot as plt\n",
    "    import numpy as np\n",
    "    \n",
    "    x_list = np.arange(interv[0],interv[1]+step,step)\n",
    "    plt.plot(x_list, f(x_list),linewidth=3)\n",
    "    plt.xlim(interv)\n",
    "    plt.xlabel(\"x\",size=12)\n",
    "    plt.ylabel(\"f(x)\",size=12)\n",
    "    plt.hlines(0,interv[0],interv[1],linestyle='--',linewidth=1)\n",
    "    plt.show()\n",
    "\n",
    "plot_f(f)"
   ]
  },
  {
   "cell_type": "code",
   "execution_count": 62,
   "metadata": {},
   "outputs": [
    {
     "name": "stdout",
     "output_type": "stream",
     "text": [
      "Racine trouvée après 6 itérations.\n",
      "f(x) s'approche de 0 pour x = 0.7734375 avec f(0.7734375)=0.009549617767333984\n"
     ]
    }
   ],
   "source": [
    "def trouve_racine(function,N=1,interv=[0,1]):\n",
    "    #N = precision de la valeur de x_0, avec x_0 tel que function(x_0) = 0 \n",
    "    #Fonctionne par dichotomie\n",
    "    \n",
    "    x0 = 1\n",
    "    i = 0\n",
    "    \n",
    "    while abs(function(x0)) > N:\n",
    "        val1, val2, val3 = function(min(interv)), function((interv[0]+interv[1])/2), function(max(interv))\n",
    "        if val1*val2 < 0:\n",
    "            interv = [min(interv),(interv[0]+interv[1])/2]\n",
    "        elif val2*val3 < 0:\n",
    "            interv = [(interv[0]+interv[1])/2,max(interv)]\n",
    "        else:\n",
    "            print(\"Impossible de trouver la racine de la fonction dans l'intervalle\",interv)\n",
    "            return\n",
    "        i = i+1\n",
    "        x0 = (interv[0]+interv[1])/2\n",
    "        \n",
    "    print(f\"Racine trouvée après {i} itérations.\")\n",
    "    \n",
    "    return x0\n",
    "\n",
    "x0 = trouve_racine(f,N=1e-2,interv=[0,1])\n",
    "print(f\"f(x) s'approche de 0 pour x = {x0} avec f({x0})={f(x0)}\")"
   ]
  },
  {
   "cell_type": "markdown",
   "metadata": {},
   "source": [
    "### Ex 2: Carrés magiques\n",
    "Un carré magique est un tableau carré de taille n×n qui contient tous les entiers de 1 à n$^2$ et qui vérifie que : la somme de chaque ligne, la somme de chaque colonne, la somme de la diagonale principale et la somme de l’anti-diagonale ont toutes la même valeur.\n",
    "\n",
    "Pour un carré magique de taille n×n, la valeur de la somme est : S$_n$=$\\frac{n(n^2+1)}{2}$\n",
    "\n",
    "1. Définir un tableau pour chacun des exemples 3×3 et 4×4\n",
    "2. Définir une fonction est_carre_magique(carre) qui teste si un tableau donné est (ou pas) un carré magique\n",
    "3. Génèrer de façon aléatoire des carrés contenant les entiers de 1 à n$^2$ grâce à une fonction carre_aleatoire(n). \n",
    "4. Définir la probabilité d'obtenir un carrée magique\n",
    "5. Définir une fonction addition_carre(carre,k) qui ajoute un entier k à tous les éléments du carré.\n"
   ]
  },
  {
   "cell_type": "code",
   "execution_count": 20,
   "metadata": {
    "scrolled": true
   },
   "outputs": [
    {
     "name": "stdout",
     "output_type": "stream",
     "text": [
      "[[2 7 6]\n",
      " [9 5 1]\n",
      " [4 3 8]]\n",
      "[2 9 4]\n",
      "[[ 1  2  3  4]\n",
      " [ 5  6  7  8]\n",
      " [ 9 10 11 12]\n",
      " [13 14 15 16]]\n"
     ]
    }
   ],
   "source": [
    "import numpy as np\n",
    "\n",
    "# Pour n = 3, S_n = 15\n",
    "carre_3 = np.array([2,7,6,9,5,1,4,3,8]).reshape(3,3)\n",
    "print(carre_3)\n",
    "print(carre_3[:,0])\n",
    "# Pour n = 4, S_n = 34\n",
    "carre_4 = np.array([[1,2,3,4],[5,6,7,8],[9,10,11,12],[13,14,15,16]])\n",
    "print(carre_4)"
   ]
  },
  {
   "cell_type": "code",
   "execution_count": 21,
   "metadata": {},
   "outputs": [
    {
     "name": "stdout",
     "output_type": "stream",
     "text": [
      "Oui\n",
      "Non\n"
     ]
    }
   ],
   "source": [
    "def est_carre_magique(carre):\n",
    "    \n",
    "    import numpy as np\n",
    "    \n",
    "    n = len(carre)\n",
    "    Sn = (n*(n**2+1))/2\n",
    "        \n",
    "    somme_lignes = carre.sum(axis=1)\n",
    "    somme_colonnes = carre.sum(axis=0)\n",
    "    #diag = carre.diagonal()\n",
    "    #anti-diag = np.flipud(carre).diagonal()\n",
    "    somme_diag = carre.trace()\n",
    "    somme_adiag = np.flipud(carre).trace()\n",
    "    \n",
    "    for somme in somme_lignes:\n",
    "        if somme != Sn:\n",
    "            return \"Non\"\n",
    "        else:\n",
    "            pass\n",
    "        \n",
    "    for somme in somme_colonnes:\n",
    "        if somme != Sn:\n",
    "            return \"Non\"\n",
    "        else:\n",
    "            pass\n",
    "        \n",
    "    if somme_diag != Sn:\n",
    "        return \"Non\"\n",
    "    if somme_adiag != Sn:\n",
    "        return \"Non\"\n",
    "    \n",
    "    #Ou plus simplement sans utiliser de fonction numpy\n",
    "    #for ligne in carre:\n",
    "    #    print(np.sum(ligne),ligne)\n",
    "    #    if np.sum(ligne) != Sn:\n",
    "    #        return 0\n",
    "    #    else:\n",
    "    #        pass    \n",
    "        \n",
    "    return \"Oui\"\n",
    "\n",
    "print(est_carre_magique(carre_3))\n",
    "print(est_carre_magique(carre_4))"
   ]
  },
  {
   "cell_type": "code",
   "execution_count": 240,
   "metadata": {},
   "outputs": [
    {
     "name": "stdout",
     "output_type": "stream",
     "text": [
      "Probabilité d'avoir un carré magique de taille 4x4 sur 100000.0 tirages = 0.0%\n"
     ]
    }
   ],
   "source": [
    "def carre_aleatoire(n):\n",
    "    \n",
    "    import numpy as np\n",
    "    carre = np.random.choice(np.arange(1,n**2+1), (n,n), replace = False)\n",
    "    \n",
    "    return carre\n",
    "\n",
    "def proba_carre_magique(N,n):\n",
    "    \"\"\"\n",
    "    N = nombre de tirages de carré à tester\n",
    "    n = dimension des carrés à tester\n",
    "    Cette fonction renvoie la probabilité de trouver un carré magique sur N tirages\n",
    "    P = nombre de carrés magiques trouvés / N\n",
    "    \"\"\"\n",
    "    compt, compt_carre = 0, 0\n",
    "    \n",
    "    while compt < N:\n",
    "        carre = carre_aleatoire(n)\n",
    "        if est_carre_magique(carre) == \"Oui\":\n",
    "            compt_carre += 1\n",
    "            print(\"Ce carré est magique :\")\n",
    "            print(carre)\n",
    "        compt = compt + 1\n",
    "        \n",
    "    return compt_carre/compt\n",
    "\n",
    "n = 3\n",
    "nb_tirages = 1e5\n",
    "P = proba_carre_magique(nb_tirages,n)\n",
    "print(f\"Probabilité d'avoir un carré magique de taille {n}x{n} sur {nb_tirages} tirages = {P*100}%\")"
   ]
  }
 ],
 "metadata": {
  "kernelspec": {
   "display_name": "Python 3",
   "language": "python",
   "name": "python3"
  },
  "language_info": {
   "codemirror_mode": {
    "name": "ipython",
    "version": 3
   },
   "file_extension": ".py",
   "mimetype": "text/x-python",
   "name": "python",
   "nbconvert_exporter": "python",
   "pygments_lexer": "ipython3",
   "version": "3.7.4"
  }
 },
 "nbformat": 4,
 "nbformat_minor": 2
}
